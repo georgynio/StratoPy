{
 "cells": [
  {
   "cell_type": "markdown",
   "metadata": {},
   "source": [
    "# Tutorial"
   ]
  },
  {
   "cell_type": "markdown",
   "metadata": {},
   "source": [
    "The first step is to install stratopy. To install it, on a terminal run\n",
    "\n",
    "```console\n",
    "$ pip install stratopy\n",
    "```\n",
    "\n",
    "After installing, the first thing to do is to load the stratopy package. "
   ]
  },
  {
   "cell_type": "markdown",
   "metadata": {},
   "source": [
    "# The stratopy package"
   ]
  },
  {
   "cell_type": "markdown",
   "metadata": {},
   "source": [
    "We always recommend to read the documentation."
   ]
  },
  {
   "cell_type": "code",
   "execution_count": 1,
   "metadata": {},
   "outputs": [
    {
     "name": "stdout",
     "output_type": "stream",
     "text": [
      "A Python package designed to easily manipulate CloudSat and GOES-R\n",
      "and generate labeled images containing cloud types.\n",
      "\n",
      "It consists in five modules:\n",
      "\n",
      "- stratopy.cloudsat module\n",
      "- stratopy.core module\n",
      "- stratopy.goes module\n",
      "- stratopy.IO module\n",
      "- stratopy.merger module\n",
      " \n"
     ]
    }
   ],
   "source": [
    "import stratopy\n",
    "\n",
    "print(stratopy.__doc__)"
   ]
  },
  {
   "cell_type": "markdown",
   "metadata": {},
   "source": [
    "This tutorial will guide you through all five modules."
   ]
  },
  {
   "cell_type": "markdown",
   "metadata": {},
   "source": [
    "## Using the IO Module"
   ]
  },
  {
   "cell_type": "markdown",
   "metadata": {},
   "source": [
    "Stratopy is intended to be used by data scientists that are interested in trainning machine learning algorithms based on satellite imagery data. `Stratopy` grants the possibility of downloading images from remote servers via the IO module. \n",
    "\n",
    "In case of having access to CloudSat's remote server, then by defining your username and password as strings and by passing the route to the desired image it is possible to download it (insert your username and password): "
   ]
  },
  {
   "cell_type": "code",
   "execution_count": 2,
   "metadata": {},
   "outputs": [
    {
     "data": {
      "text/html": [
       "<div class=\"stratopy-data-container\" id=140717564137136><div>\n",
       "<style scoped>\n",
       "    .dataframe tbody tr th:only-of-type {\n",
       "        vertical-align: middle;\n",
       "    }\n",
       "\n",
       "    .dataframe tbody tr th {\n",
       "        vertical-align: top;\n",
       "    }\n",
       "\n",
       "    .dataframe thead th {\n",
       "        text-align: right;\n",
       "    }\n",
       "</style>\n",
       "<table border=\"1\" class=\"dataframe\">\n",
       "  <thead>\n",
       "    <tr style=\"text-align: right;\">\n",
       "      <th></th>\n",
       "      <th>read_time</th>\n",
       "      <th>Longitude</th>\n",
       "      <th>Latitude</th>\n",
       "      <th>layer_0</th>\n",
       "      <th>layer_1</th>\n",
       "      <th>layer_2</th>\n",
       "      <th>layer_3</th>\n",
       "      <th>layer_4</th>\n",
       "      <th>layer_5</th>\n",
       "      <th>layer_6</th>\n",
       "      <th>layer_7</th>\n",
       "      <th>layer_8</th>\n",
       "      <th>layer_9</th>\n",
       "    </tr>\n",
       "  </thead>\n",
       "  <tbody>\n",
       "    <tr>\n",
       "      <th>0</th>\n",
       "      <td>2019-01-03 15:19:58.450000000</td>\n",
       "      <td>156.896011</td>\n",
       "      <td>-0.006094</td>\n",
       "      <td>0</td>\n",
       "      <td>0</td>\n",
       "      <td>0</td>\n",
       "      <td>0</td>\n",
       "      <td>0</td>\n",
       "      <td>0</td>\n",
       "      <td>0</td>\n",
       "      <td>0</td>\n",
       "      <td>0</td>\n",
       "      <td>0</td>\n",
       "    </tr>\n",
       "    <tr>\n",
       "      <th>1</th>\n",
       "      <td>2019-01-03 15:19:58.609999967</td>\n",
       "      <td>156.893967</td>\n",
       "      <td>-0.015801</td>\n",
       "      <td>0</td>\n",
       "      <td>0</td>\n",
       "      <td>0</td>\n",
       "      <td>0</td>\n",
       "      <td>0</td>\n",
       "      <td>0</td>\n",
       "      <td>0</td>\n",
       "      <td>0</td>\n",
       "      <td>0</td>\n",
       "      <td>0</td>\n",
       "    </tr>\n",
       "    <tr>\n",
       "      <th>2</th>\n",
       "      <td>2019-01-03 15:19:58.769999933</td>\n",
       "      <td>156.891907</td>\n",
       "      <td>-0.025507</td>\n",
       "      <td>0</td>\n",
       "      <td>0</td>\n",
       "      <td>0</td>\n",
       "      <td>0</td>\n",
       "      <td>0</td>\n",
       "      <td>0</td>\n",
       "      <td>0</td>\n",
       "      <td>0</td>\n",
       "      <td>0</td>\n",
       "      <td>0</td>\n",
       "    </tr>\n",
       "    <tr>\n",
       "      <th>3</th>\n",
       "      <td>2019-01-03 15:19:58.929999900</td>\n",
       "      <td>156.889862</td>\n",
       "      <td>-0.035213</td>\n",
       "      <td>0</td>\n",
       "      <td>0</td>\n",
       "      <td>0</td>\n",
       "      <td>0</td>\n",
       "      <td>0</td>\n",
       "      <td>0</td>\n",
       "      <td>0</td>\n",
       "      <td>0</td>\n",
       "      <td>0</td>\n",
       "      <td>0</td>\n",
       "    </tr>\n",
       "    <tr>\n",
       "      <th>4</th>\n",
       "      <td>2019-01-03 15:19:59.089999986</td>\n",
       "      <td>156.887802</td>\n",
       "      <td>-0.044920</td>\n",
       "      <td>0</td>\n",
       "      <td>0</td>\n",
       "      <td>0</td>\n",
       "      <td>0</td>\n",
       "      <td>0</td>\n",
       "      <td>0</td>\n",
       "      <td>0</td>\n",
       "      <td>0</td>\n",
       "      <td>0</td>\n",
       "      <td>0</td>\n",
       "    </tr>\n",
       "    <tr>\n",
       "      <th>...</th>\n",
       "      <td>...</td>\n",
       "      <td>...</td>\n",
       "      <td>...</td>\n",
       "      <td>...</td>\n",
       "      <td>...</td>\n",
       "      <td>...</td>\n",
       "      <td>...</td>\n",
       "      <td>...</td>\n",
       "      <td>...</td>\n",
       "      <td>...</td>\n",
       "      <td>...</td>\n",
       "      <td>...</td>\n",
       "      <td>...</td>\n",
       "    </tr>\n",
       "    <tr>\n",
       "      <th>36945</th>\n",
       "      <td>2019-01-03 16:58:29.651171875</td>\n",
       "      <td>132.272720</td>\n",
       "      <td>0.043348</td>\n",
       "      <td>0</td>\n",
       "      <td>0</td>\n",
       "      <td>0</td>\n",
       "      <td>0</td>\n",
       "      <td>0</td>\n",
       "      <td>0</td>\n",
       "      <td>0</td>\n",
       "      <td>0</td>\n",
       "      <td>0</td>\n",
       "      <td>0</td>\n",
       "    </tr>\n",
       "    <tr>\n",
       "      <th>36946</th>\n",
       "      <td>2019-01-03 16:58:29.810839844</td>\n",
       "      <td>132.270676</td>\n",
       "      <td>0.033642</td>\n",
       "      <td>0</td>\n",
       "      <td>0</td>\n",
       "      <td>0</td>\n",
       "      <td>0</td>\n",
       "      <td>0</td>\n",
       "      <td>0</td>\n",
       "      <td>0</td>\n",
       "      <td>0</td>\n",
       "      <td>0</td>\n",
       "      <td>0</td>\n",
       "    </tr>\n",
       "    <tr>\n",
       "      <th>36947</th>\n",
       "      <td>2019-01-03 16:58:29.970996094</td>\n",
       "      <td>132.268616</td>\n",
       "      <td>0.023935</td>\n",
       "      <td>0</td>\n",
       "      <td>0</td>\n",
       "      <td>0</td>\n",
       "      <td>0</td>\n",
       "      <td>0</td>\n",
       "      <td>0</td>\n",
       "      <td>0</td>\n",
       "      <td>0</td>\n",
       "      <td>0</td>\n",
       "      <td>0</td>\n",
       "    </tr>\n",
       "    <tr>\n",
       "      <th>36948</th>\n",
       "      <td>2019-01-03 16:58:30.131152344</td>\n",
       "      <td>132.266571</td>\n",
       "      <td>0.014229</td>\n",
       "      <td>0</td>\n",
       "      <td>0</td>\n",
       "      <td>0</td>\n",
       "      <td>0</td>\n",
       "      <td>0</td>\n",
       "      <td>0</td>\n",
       "      <td>0</td>\n",
       "      <td>0</td>\n",
       "      <td>0</td>\n",
       "      <td>0</td>\n",
       "    </tr>\n",
       "    <tr>\n",
       "      <th>36949</th>\n",
       "      <td>2019-01-03 16:58:30.290820312</td>\n",
       "      <td>132.264511</td>\n",
       "      <td>0.004522</td>\n",
       "      <td>0</td>\n",
       "      <td>0</td>\n",
       "      <td>0</td>\n",
       "      <td>0</td>\n",
       "      <td>0</td>\n",
       "      <td>0</td>\n",
       "      <td>0</td>\n",
       "      <td>0</td>\n",
       "      <td>0</td>\n",
       "      <td>0</td>\n",
       "    </tr>\n",
       "  </tbody>\n",
       "</table>\n",
       "</div>CloudSatFrame - 36950 rows x 13 columns</div>"
      ],
      "text/plain": [
       "                          read_time   Longitude  Latitude  layer_0  layer_1  \\\n",
       "0     2019-01-03 15:19:58.450000000  156.896011 -0.006094        0        0   \n",
       "1     2019-01-03 15:19:58.609999967  156.893967 -0.015801        0        0   \n",
       "2     2019-01-03 15:19:58.769999933  156.891907 -0.025507        0        0   \n",
       "3     2019-01-03 15:19:58.929999900  156.889862 -0.035213        0        0   \n",
       "4     2019-01-03 15:19:59.089999986  156.887802 -0.044920        0        0   \n",
       "...                             ...         ...       ...      ...      ...   \n",
       "36945 2019-01-03 16:58:29.651171875  132.272720  0.043348        0        0   \n",
       "36946 2019-01-03 16:58:29.810839844  132.270676  0.033642        0        0   \n",
       "36947 2019-01-03 16:58:29.970996094  132.268616  0.023935        0        0   \n",
       "36948 2019-01-03 16:58:30.131152344  132.266571  0.014229        0        0   \n",
       "36949 2019-01-03 16:58:30.290820312  132.264511  0.004522        0        0   \n",
       "\n",
       "       layer_2  layer_3  layer_4  layer_5  layer_6  layer_7  layer_8  layer_9  \n",
       "0            0        0        0        0        0        0        0        0  \n",
       "1            0        0        0        0        0        0        0        0  \n",
       "2            0        0        0        0        0        0        0        0  \n",
       "3            0        0        0        0        0        0        0        0  \n",
       "4            0        0        0        0        0        0        0        0  \n",
       "...        ...      ...      ...      ...      ...      ...      ...      ...  \n",
       "36945        0        0        0        0        0        0        0        0  \n",
       "36946        0        0        0        0        0        0        0        0  \n",
       "36947        0        0        0        0        0        0        0        0  \n",
       "36948        0        0        0        0        0        0        0        0  \n",
       "36949        0        0        0        0        0        0        0        0  \n",
       "\n",
       "CloudSatFrame - 36950 rows x 13 columns"
      ]
     },
     "execution_count": 2,
     "metadata": {},
     "output_type": "execute_result"
    }
   ],
   "source": [
    "from stratopy import IO\n",
    "\n",
    "username = \"your.username\"\n",
    "password = \"your.password\"\n",
    "route = \"2B-CLDCLASS.P1_R05/2019/003/2019003151948_67564_CS_2B-CLDCLASS_GRANULE_P1_R05_E08_F03.hdf\"\n",
    "\n",
    "IO.fetch_cloudsat(\n",
    "    dirname=route,\n",
    "    user=username,\n",
    "    passwd=password,\n",
    "    host=\"ftp.cloudsat.cira.colostate.edu\",\n",
    "    tag=\"stratopy-cloudsat\",\n",
    ")"
   ]
  },
  {
   "cell_type": "markdown",
   "metadata": {},
   "source": [
    "## Loading data"
   ]
  },
  {
   "cell_type": "markdown",
   "metadata": {},
   "source": [
    "If data is already present in your local computer, there is no need to use the IO module. The `cloudsat` and `goes` modules assists the user in loading the satellite image."
   ]
  },
  {
   "cell_type": "markdown",
   "metadata": {},
   "source": [
    "### About the Cloudsat Module"
   ]
  },
  {
   "cell_type": "markdown",
   "metadata": {},
   "source": [
    "This module may be used to load a Cloudsat image. For this tutorial, there is a data folder in the stratopy data directory that will be used. To load a cloudsat image just import `stratopy.cloudsat`:"
   ]
  },
  {
   "cell_type": "code",
   "execution_count": 3,
   "metadata": {
    "scrolled": true
   },
   "outputs": [
    {
     "name": "stdout",
     "output_type": "stream",
     "text": [
      "Module containing all CloudSat related classes and methods.\n"
     ]
    }
   ],
   "source": [
    "from stratopy import cloudsat as cs\n",
    "\n",
    "print(cs.__doc__)"
   ]
  },
  {
   "cell_type": "markdown",
   "metadata": {},
   "source": [
    "Then, using the `cs.read_hdf` method, one can simply import the hdf data as follows:"
   ]
  },
  {
   "cell_type": "code",
   "execution_count": 4,
   "metadata": {},
   "outputs": [],
   "source": [
    "cloudsat_im_path = '../../data/CloudSat/2019002175851_67551_CS_2B-CLDCLASS_GRANULE_P1_R05_E08_F03.hdf'\n",
    "cloudsat_obj = cs.read_hdf(cloudsat_im_path)"
   ]
  },
  {
   "cell_type": "markdown",
   "metadata": {},
   "source": [
    "It is posible to crop the image to a desired rectangle with defined latitude and longitude coordinates using the `cut` method:"
   ]
  },
  {
   "cell_type": "code",
   "execution_count": 5,
   "metadata": {},
   "outputs": [],
   "source": [
    "cloudsat_obj = cloudsat_obj.cut([-40.,10., -78.,-36])"
   ]
  },
  {
   "cell_type": "markdown",
   "metadata": {},
   "source": [
    "### About the Goes Module"
   ]
  },
  {
   "cell_type": "markdown",
   "metadata": {},
   "source": [
    "If GOES satellite data is present in the local machine, one may import the goes module from stratopy:"
   ]
  },
  {
   "cell_type": "code",
   "execution_count": 6,
   "metadata": {},
   "outputs": [
    {
     "name": "stdout",
     "output_type": "stream",
     "text": [
      "Module containing all GOES satellite related classes and methods.\n"
     ]
    }
   ],
   "source": [
    "from stratopy import goes\n",
    "\n",
    "print(goes.__doc__)"
   ]
  },
  {
   "cell_type": "markdown",
   "metadata": {},
   "source": [
    "This package is only meant to process CMI (Cloud and Moisture) Full Disk products (Level 2) from GOES16. \n",
    "That said, in order to load a file you can simply use the `goes.read_nc` method. Here you have three options:\n",
    "- You can open a single-channel file.\n",
    "- You can open three pre-defined channels all-togheter: C03, CH7 and CH13. \n",
    "- You can open a multi-band CMI file, which contains all 16 abi bands processed as a CMI product.\n",
    "\n",
    "#### Single-channel file"
   ]
  },
  {
   "cell_type": "code",
   "execution_count": 8,
   "metadata": {
    "scrolled": false
   },
   "outputs": [],
   "source": [
    "goes_path_1 = (\"../../data/GOES16/OR_ABI-L2-CMIPF-M3C07_G16_s20190021800363_e20190021811141_c20190021811202.nc\",)\n",
    "goes_obj_1 = goes.read_nc(goes_path)"
   ]
  },
  {
   "cell_type": "markdown",
   "metadata": {},
   "source": [
    "#### Three channels: the Day Microphysics product"
   ]
  },
  {
   "cell_type": "markdown",
   "metadata": {},
   "source": [
    "If you'd like to open 3 bands (in order to generate the day microphysics RGB later), we just add the three paths to the path tuple and use the read_nc function:"
   ]
  },
  {
   "cell_type": "code",
   "execution_count": null,
   "metadata": {},
   "outputs": [],
   "source": [
    "goes_path_3 = (\"../../data/GOES16/OR_ABI-L2-CMIPF-M3C03_G16_s20190021800363_e20190021811129_c20190021811205.nc\", #channel 3\n",
    "                \"../../data/GOES16/OR_ABI-L2-CMIPF-M3C07_G16_s20190021800363_e20190021811141_c20190021811202.nc\", #channel 7\n",
    "                \"../../data/GOES16/OR_ABI-L2-CMIPF-M3C13_G16_s20190021800363_e20190021811141_c20190021811221.nc\") #channel 13\n",
    "goes_obj_3 = read_nc(goes_path_3)"
   ]
  },
  {
   "cell_type": "markdown",
   "metadata": {},
   "source": [
    "Now, using goes_obj_3 it's possible to easily generate a *Day Microphysics RGB* product, where the Reds channel is composed by band 3, the Greens channel is composed by band 7 and the Blues channel is composed by band 13, by simply using the RGB method. This will return a numpy array of shape (a,l,3) where ...The default shape is (2441, 1666, 3) and includes a great portion of Southamerica. "
   ]
  },
  {
   "cell_type": "code",
   "execution_count": null,
   "metadata": {},
   "outputs": [],
   "source": [
    "rgb_img = rgb_data.RGB\n",
    "\n",
    "#Plot the image \n",
    "plt.imshow(rgb_img)"
   ]
  },
  {
   "cell_type": "markdown",
   "metadata": {},
   "source": [
    "#### Multi-band file"
   ]
  },
  {
   "cell_type": "markdown",
   "metadata": {},
   "source": [
    "In GOES images it is also possible to trim the image to a specified rectangle:"
   ]
  },
  {
   "cell_type": "markdown",
   "metadata": {},
   "source": [
    "You can always change the coordinates where you are trimming the Full-Disk image by...."
   ]
  },
  {
   "cell_type": "code",
   "execution_count": 9,
   "metadata": {},
   "outputs": [],
   "source": [
    "# Return a dictionary\n",
    "goes_cut = goes_obj.trim()\n",
    "\n",
    "# Return the image array \n",
    "goes_array = goes_cut.get('M3C03')"
   ]
  },
  {
   "cell_type": "markdown",
   "metadata": {},
   "source": [
    "## Using the merger Module"
   ]
  },
  {
   "cell_type": "code",
   "execution_count": 10,
   "metadata": {},
   "outputs": [
    {
     "name": "stdout",
     "output_type": "stream",
     "text": [
      "Contains the principal Data Frame class which allows for merging\n",
      "satellite images.\n"
     ]
    }
   ],
   "source": [
    "from stratopy import merger\n",
    "\n",
    "print(merger.__doc__)"
   ]
  },
  {
   "cell_type": "markdown",
   "metadata": {},
   "source": [
    "In order to merge data from GOES16 and Cloudsat, we must have preaviously created a *goes object* and a *cloudsat object*. "
   ]
  },
  {
   "cell_type": "code",
   "execution_count": null,
   "metadata": {},
   "outputs": [],
   "source": [
    "merged_df = stratopy.merger.merge(cldsat_obj, goes_obj)"
   ]
  },
  {
   "cell_type": "markdown",
   "metadata": {},
   "source": [
    "As we can see, this returns a .... object. This object inherits all the functionalities of a Pandas Dataframe object. "
   ]
  },
  {
   "cell_type": "code",
   "execution_count": null,
   "metadata": {},
   "outputs": [],
   "source": [
    "(merged_df), merged_df"
   ]
  },
  {
   "cell_type": "markdown",
   "metadata": {},
   "source": [
    "The goes_vect colum is the column that contains a vector of shape *3x3xN* where N could be \n",
    "- 1 if the goes object corresponds to a one-band file (CMI)\n",
    "- 3 if the goes object corresponds to a 3-band file (RGB)(CMI)\n",
    "- 16 if the goes object corresponds to a 16-band file (MCMIPF)"
   ]
  },
  {
   "cell_type": "code",
   "execution_count": null,
   "metadata": {},
   "outputs": [],
   "source": [
    "merged_df['goes_vec'].iloc[0].shape"
   ]
  },
  {
   "cell_type": "markdown",
   "metadata": {},
   "source": [
    "## Understanding the core Module"
   ]
  },
  {
   "cell_type": "code",
   "execution_count": 11,
   "metadata": {},
   "outputs": [
    {
     "name": "stdout",
     "output_type": "stream",
     "text": [
      "Contains methods to perform transformation operations on loaded images.\n"
     ]
    }
   ],
   "source": [
    "from stratopy import core\n",
    "\n",
    "print(core.__doc__)"
   ]
  }
 ],
 "metadata": {
  "interpreter": {
   "hash": "0a096fd3e651061f63c19cc311a5392ac9eb3455e5aaea899b8c1d18c5f14311"
  },
  "kernelspec": {
   "display_name": "Python 3",
   "language": "python",
   "name": "python3"
  },
  "language_info": {
   "codemirror_mode": {
    "name": "ipython",
    "version": 3
   },
   "file_extension": ".py",
   "mimetype": "text/x-python",
   "name": "python",
   "nbconvert_exporter": "python",
   "pygments_lexer": "ipython3",
   "version": "3.9.7"
  }
 },
 "nbformat": 4,
 "nbformat_minor": 2
}
